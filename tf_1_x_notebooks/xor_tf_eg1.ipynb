{
 "cells": [
  {
   "cell_type": "markdown",
   "metadata": {},
   "source": [
    "### Import all the libraries"
   ]
  },
  {
   "cell_type": "code",
   "execution_count": 1,
   "metadata": {},
   "outputs": [],
   "source": [
    "import tensorflow as tf\n",
    "import numpy as np"
   ]
  },
  {
   "cell_type": "markdown",
   "metadata": {},
   "source": [
    "### Define all the inputs and outputs"
   ]
  },
  {
   "cell_type": "code",
   "execution_count": 2,
   "metadata": {},
   "outputs": [],
   "source": [
    "X = [[0, 0],[0, 1],[1, 0],[1, 1]]\n",
    "Y = [[0], [1], [1], [0]]"
   ]
  },
  {
   "cell_type": "markdown",
   "metadata": {},
   "source": [
    "### Define the network parameters"
   ]
  },
  {
   "cell_type": "code",
   "execution_count": 3,
   "metadata": {},
   "outputs": [],
   "source": [
    "N_STEPS = 14000\n",
    "N_EPOCH = 4000\n",
    "N_TRAINING = len(X)\n",
    "LEARNING_RATE = 0.05\n",
    "N_INPUT_NODES = 2\n",
    "N_HIDDEN_NODES = 4\n",
    "N_OUTPUT_NODES  = 1"
   ]
  },
  {
   "cell_type": "markdown",
   "metadata": {},
   "source": [
    "### Define all the placeholders "
   ]
  },
  {
   "cell_type": "code",
   "execution_count": 4,
   "metadata": {},
   "outputs": [],
   "source": [
    "x_ = tf.placeholder(tf.float32, shape=[N_TRAINING, N_INPUT_NODES], name=\"x-input\")\n",
    "y_ = tf.placeholder(tf.float32, shape=[N_TRAINING, N_OUTPUT_NODES], name=\"y-input\")"
   ]
  },
  {
   "cell_type": "markdown",
   "metadata": {},
   "source": [
    "### Define the weights and bias values"
   ]
  },
  {
   "cell_type": "code",
   "execution_count": 5,
   "metadata": {},
   "outputs": [],
   "source": [
    "w1 = tf.Variable(tf.random_uniform([N_INPUT_NODES,N_HIDDEN_NODES], -1, 1), name=\"theta1\")\n",
    "w2 = tf.Variable(tf.random_uniform([N_HIDDEN_NODES,N_OUTPUT_NODES], -1, 1), name=\"theta2\")"
   ]
  },
  {
   "cell_type": "code",
   "execution_count": 6,
   "metadata": {},
   "outputs": [],
   "source": [
    "bias1 = tf.Variable(tf.zeros([N_HIDDEN_NODES]), name=\"bias1\")\n",
    "bias2 = tf.Variable(tf.zeros([N_OUTPUT_NODES]), name=\"bias2\")"
   ]
  },
  {
   "cell_type": "markdown",
   "metadata": {},
   "source": [
    "### Compute the 1st layer output"
   ]
  },
  {
   "cell_type": "code",
   "execution_count": 7,
   "metadata": {},
   "outputs": [],
   "source": [
    "layer1_output = tf.sigmoid(tf.matmul(x_, w1) + bias1)"
   ]
  },
  {
   "cell_type": "markdown",
   "metadata": {},
   "source": [
    "### Compute the final output of the neural network"
   ]
  },
  {
   "cell_type": "code",
   "execution_count": 8,
   "metadata": {},
   "outputs": [],
   "source": [
    "output = tf.sigmoid(tf.matmul(layer1_output, w2) + bias2)"
   ]
  },
  {
   "cell_type": "markdown",
   "metadata": {},
   "source": [
    "### Define the cost function for the following network"
   ]
  },
  {
   "cell_type": "code",
   "execution_count": 9,
   "metadata": {},
   "outputs": [],
   "source": [
    "cost = - tf.reduce_mean( (y_ * tf.log(output)) + (1 - y_) * tf.log(1.0 - output) )"
   ]
  },
  {
   "cell_type": "markdown",
   "metadata": {},
   "source": [
    "### Define the optimizer for the network to optimize the weights"
   ]
  },
  {
   "cell_type": "code",
   "execution_count": 10,
   "metadata": {},
   "outputs": [],
   "source": [
    "train_step = tf.train.GradientDescentOptimizer(LEARNING_RATE).minimize(cost)"
   ]
  },
  {
   "cell_type": "markdown",
   "metadata": {},
   "source": [
    "### Initialize the session and run the iterations"
   ]
  },
  {
   "cell_type": "code",
   "execution_count": 11,
   "metadata": {},
   "outputs": [
    {
     "name": "stdout",
     "output_type": "stream",
     "text": [
      "('Output', array([[ 0.34572041],\n",
      "       [ 0.4012261 ],\n",
      "       [ 0.3645103 ],\n",
      "       [ 0.4149963 ]], dtype=float32))\n",
      "('Cost', 0.72069705)\n",
      "\n",
      "\n",
      "('Output', array([[ 0.22370273],\n",
      "       [ 0.58037013],\n",
      "       [ 0.58272099],\n",
      "       [ 0.62455547]], dtype=float32))\n",
      "('Cost', 0.5792501)\n",
      "\n",
      "\n",
      "('Output', array([[ 0.07691532],\n",
      "       [ 0.82565188],\n",
      "       [ 0.85796046],\n",
      "       [ 0.30214012]], dtype=float32))\n",
      "('Cost', 0.19613764)\n",
      "\n",
      "\n",
      "('Output', array([[ 0.02296857],\n",
      "       [ 0.96084541],\n",
      "       [ 0.96660119],\n",
      "       [ 0.07172845]], dtype=float32))\n",
      "('Cost', 0.042894624)\n",
      "\n",
      "\n"
     ]
    }
   ],
   "source": [
    "init = tf.global_variables_initializer()\n",
    "#saver = tf.train.Saver()\n",
    "with tf.Session() as sess:\n",
    "    sess.run(init)\n",
    "    for i in range(N_STEPS):\n",
    "        sess.run(train_step, feed_dict={x_: X, y_: Y})\n",
    "        if i % N_EPOCH == 0:\n",
    "            #print('Batch ', i)\n",
    "            print('Output', sess.run(output, feed_dict={x_: X, y_: Y}))\n",
    "            print('Cost', sess.run(cost, feed_dict={x_: X, y_: Y}))\n",
    "            print ('\\n')\n",
    "    #save_path = saver.save(sess, \"/tmp/model.ckpt\")\n",
    "    #print(\"Model saved in file: %s\" % save_path)"
   ]
  }
 ],
 "metadata": {
  "kernelspec": {
   "display_name": "Python 2",
   "language": "python",
   "name": "python2"
  },
  "language_info": {
   "codemirror_mode": {
    "name": "ipython",
    "version": 2
   },
   "file_extension": ".py",
   "mimetype": "text/x-python",
   "name": "python",
   "nbconvert_exporter": "python",
   "pygments_lexer": "ipython2",
   "version": "2.7.14"
  }
 },
 "nbformat": 4,
 "nbformat_minor": 2
}
