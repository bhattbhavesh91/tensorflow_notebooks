{
  "nbformat": 4,
  "nbformat_minor": 0,
  "metadata": {
    "colab": {
      "name": "tensorflow_2_0_introductory_tutorial.ipynb",
      "version": "0.3.2",
      "provenance": [],
      "collapsed_sections": []
    },
    "kernelspec": {
      "name": "python3",
      "display_name": "Python 3"
    }
  },
  "cells": [
    {
      "metadata": {
        "id": "cdHz1lgfTbl5",
        "colab_type": "text"
      },
      "cell_type": "markdown",
      "source": [
        "## **Installing TensorFlow 2.0**"
      ]
    },
    {
      "metadata": {
        "id": "o9siUVJaTlHw",
        "colab_type": "code",
        "colab": {}
      },
      "cell_type": "code",
      "source": [
        "!pip install tensorflow==2.0.0-alpha0"
      ],
      "execution_count": 0,
      "outputs": []
    },
    {
      "metadata": {
        "id": "toweKWrxRv8u",
        "colab_type": "code",
        "colab": {}
      },
      "cell_type": "code",
      "source": [
        "import tensorflow as tf\n",
        "import matplotlib.pyplot as plt\n",
        "import numpy as np\n",
        "%matplotlib inline"
      ],
      "execution_count": 0,
      "outputs": []
    },
    {
      "metadata": {
        "id": "BJpXxFqHSBlj",
        "colab_type": "code",
        "colab": {}
      },
      "cell_type": "code",
      "source": [
        "tf.__version__"
      ],
      "execution_count": 0,
      "outputs": []
    },
    {
      "metadata": {
        "id": "1xpxKv2KT1LJ",
        "colab_type": "text"
      },
      "cell_type": "markdown",
      "source": [
        "## **Where did tf.Session() go?**"
      ]
    },
    {
      "metadata": {
        "id": "xQnykpnBSDTz",
        "colab_type": "code",
        "colab": {}
      },
      "cell_type": "code",
      "source": [
        "hello_tf_2_0 = tf.constant(\"My name is Bhavesh\")\n",
        "print(\"Tensor:\", hello_tf_2_0)\n",
        "print(\"Value :\", hello_tf_2_0.numpy())"
      ],
      "execution_count": 0,
      "outputs": []
    },
    {
      "metadata": {
        "id": "2xfyNSqoS3KR",
        "colab_type": "text"
      },
      "cell_type": "markdown",
      "source": [
        "## **Basic Operations example using TensorFlow library.**"
      ]
    },
    {
      "metadata": {
        "id": "JmSk9HMZSPDi",
        "colab_type": "code",
        "colab": {}
      },
      "cell_type": "code",
      "source": [
        "a = tf.ones([2,2])\n",
        "print(a)"
      ],
      "execution_count": 0,
      "outputs": []
    },
    {
      "metadata": {
        "id": "BF6wHDpoSg5V",
        "colab_type": "code",
        "colab": {}
      },
      "cell_type": "code",
      "source": [
        "a[0,0] = 10"
      ],
      "execution_count": 0,
      "outputs": []
    },
    {
      "metadata": {
        "id": "kyiIWwMHT-nN",
        "colab_type": "code",
        "colab": {}
      },
      "cell_type": "code",
      "source": [
        "a = tf.Variable(a)\n",
        "a[0,0].assign(10)"
      ],
      "execution_count": 0,
      "outputs": []
    },
    {
      "metadata": {
        "id": "Ht2hbGNfVz41",
        "colab_type": "code",
        "colab": {}
      },
      "cell_type": "code",
      "source": [
        "for var_functions in dir(a):\n",
        "  print(var_functions)"
      ],
      "execution_count": 0,
      "outputs": []
    },
    {
      "metadata": {
        "id": "BIxjCt7aWKy1",
        "colab_type": "code",
        "colab": {}
      },
      "cell_type": "code",
      "source": [
        "b = a.read_value()\n",
        "print(b)"
      ],
      "execution_count": 0,
      "outputs": []
    },
    {
      "metadata": {
        "id": "qITMH_b_UE2h",
        "colab_type": "code",
        "colab": {}
      },
      "cell_type": "code",
      "source": [
        "a = tf.constant(4)\n",
        "b = tf.constant(8)"
      ],
      "execution_count": 0,
      "outputs": []
    },
    {
      "metadata": {
        "id": "5hMK7O-KUSbz",
        "colab_type": "code",
        "colab": {}
      },
      "cell_type": "code",
      "source": [
        "print(\"a + b :\" , a.numpy() + b.numpy())\n",
        "print(\"Addition with constants: \", a+b)\n",
        "print(\"Addition with constants: \", tf.add(a, b))"
      ],
      "execution_count": 0,
      "outputs": []
    },
    {
      "metadata": {
        "id": "NBaeHVamUKxZ",
        "colab_type": "code",
        "colab": {}
      },
      "cell_type": "code",
      "source": [
        "print(\"a * b :\" , a.numpy() * b.numpy())\n",
        "print(\"Multiplication with constants: \", a*b)\n",
        "print(\"Multiplication with constants: \", tf.multiply(a, b))"
      ],
      "execution_count": 0,
      "outputs": []
    },
    {
      "metadata": {
        "id": "41HSojabUVBo",
        "colab_type": "code",
        "colab": {}
      },
      "cell_type": "code",
      "source": [
        "a = tf.convert_to_tensor(2.)\n",
        "b = tf.cast(a, tf.int32)\n",
        "print(a, b)"
      ],
      "execution_count": 0,
      "outputs": []
    },
    {
      "metadata": {
        "id": "vE4zgExhUc-2",
        "colab_type": "code",
        "colab": {}
      },
      "cell_type": "code",
      "source": [
        "a = tf.ones([2,3])\n",
        "print(a.shape[0], a.shape[1]) # 2, 3\n",
        "shape = tf.shape(a)           # a tensor\n",
        "print(shape[0], shape[1])\n"
      ],
      "execution_count": 0,
      "outputs": []
    },
    {
      "metadata": {
        "id": "IZow6ef0VTGg",
        "colab_type": "code",
        "colab": {}
      },
      "cell_type": "code",
      "source": [
        "variable = tf.Variable(2)\n",
        "variable.assign_add(1)\n",
        "print(\"value:\", variable.numpy())"
      ],
      "execution_count": 0,
      "outputs": []
    },
    {
      "metadata": {
        "id": "4fqpQeXMVXI-",
        "colab_type": "code",
        "colab": {}
      },
      "cell_type": "code",
      "source": [
        "variable = variable + 1\n",
        "print(\"value:\", variable.numpy())"
      ],
      "execution_count": 0,
      "outputs": []
    },
    {
      "metadata": {
        "id": "OynUbEEfU2F1",
        "colab_type": "code",
        "colab": {}
      },
      "cell_type": "code",
      "source": [
        "x = np.linspace(-5, 5, 100)\n",
        "y_sigmoid = tf.nn.sigmoid(x)\n",
        "plt.plot(x, y_sigmoid, c='blue', label='sigmoid')\n",
        "plt.ylim((-0.2, 1.2))\n",
        "plt.legend(loc='best')\n",
        "plt.show()"
      ],
      "execution_count": 0,
      "outputs": []
    }
  ]
}